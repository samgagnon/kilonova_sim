{
 "cells": [
  {
   "cell_type": "code",
   "execution_count": 2,
   "id": "24eb76f2",
   "metadata": {},
   "outputs": [],
   "source": [
    "import numpy as np\n",
    "import matplotlib.pyplot as plt\n",
    "from scipy.stats import truncnorm"
   ]
  },
  {
   "cell_type": "code",
   "execution_count": 3,
   "id": "381ac6cd",
   "metadata": {},
   "outputs": [],
   "source": [
    "def jansky(mab):\n",
    "    return 10**((8.9-mab)/2.5)"
   ]
  },
  {
   "cell_type": "code",
   "execution_count": 8,
   "id": "8ad5b4f9",
   "metadata": {},
   "outputs": [],
   "source": [
    "background = 18.7\n",
    "# background = 200\n",
    "fov = 38880000 # square arcseconds\n",
    "sig10 = 21.3\n",
    "myclip_a = 0\n",
    "myclip_b = 100\n",
    "my_std = abs((jansky(sig10)) / 10)\n",
    "a, b = myclip_a / my_std, myclip_b / my_std\n",
    "v = truncnorm(a,b)"
   ]
  },
  {
   "cell_type": "code",
   "execution_count": 9,
   "id": "31db1cbb",
   "metadata": {},
   "outputs": [
    {
     "data": {
      "image/png": "[encoded data removed]",
      "text/plain": [
       "<Figure size 432x288 with 1 Axes>"
      ]
     },
     "metadata": {
      "needs_background": "light"
     },
     "output_type": "display_data"
    }
   ],
   "source": [
    "x = np.linspace(21,30,1000)\n",
    "plt.plot(x, v.cdf(jansky(x)/my_std), 'r-')\n",
    "plt.show()"
   ]
  },
  {
   "cell_type": "code",
   "execution_count": null,
   "id": "ec769637",
   "metadata": {},
   "outputs": [],
   "source": [
    "v.cdf((jansky(26)-my_mean)/my_std)"
   ]
  },
  {
   "cell_type": "code",
   "execution_count": 70,
   "id": "e45c13a8",
   "metadata": {},
   "outputs": [
    {
     "data": {
      "text/plain": [
       "(0.0003606793303852243, 3.595828521890811e-05)"
      ]
     },
     "execution_count": 70,
     "metadata": {},
     "output_type": "execute_result"
    }
   ],
   "source": [
    "my_mean, my_std"
   ]
  },
  {
   "cell_type": "code",
   "execution_count": 71,
   "id": "4d31f144",
   "metadata": {},
   "outputs": [
    {
     "data": {
      "text/plain": [
       "1.096478196143185e-06"
      ]
     },
     "execution_count": 71,
     "metadata": {},
     "output_type": "execute_result"
    }
   ],
   "source": [
    "jansky(sig10)"
   ]
  },
  {
   "cell_type": "code",
   "execution_count": 88,
   "id": "7ffac778",
   "metadata": {},
   "outputs": [
    {
     "data": {
      "image/png": "[encoded data removed]",
      "text/plain": [
       "<Figure size 432x288 with 1 Axes>"
      ]
     },
     "metadata": {
      "needs_background": "light"
     },
     "output_type": "display_data"
    }
   ],
   "source": [
    "mean = np.linspace(0, 1e-5)\n",
    "plt.plot(mean, (jansky(sig10)-mean)/10, 'b-')\n",
    "plt.show()"
   ]
  },
  {
   "cell_type": "code",
   "execution_count": 92,
   "id": "396c0860",
   "metadata": {},
   "outputs": [
    {
     "data": {
      "text/plain": [
       "1.0"
      ]
     },
     "execution_count": 92,
     "metadata": {},
     "output_type": "execute_result"
    }
   ],
   "source": [
    "from scipy.special import erf\n",
    "1/2*(1 + erf(10/np.sqrt(2)))"
   ]
  },
  {
   "cell_type": "code",
   "execution_count": 94,
   "id": "abb91ed4",
   "metadata": {},
   "outputs": [
    {
     "data": {
      "text/plain": [
       "1.0"
      ]
     },
     "execution_count": 94,
     "metadata": {},
     "output_type": "execute_result"
    }
   ],
   "source": [
    "erf(10/np.sqrt(2))"
   ]
  },
  {
   "cell_type": "code",
   "execution_count": null,
   "id": "ad3218a0",
   "metadata": {},
   "outputs": [],
   "source": []
  }
 ],
 "metadata": {
  "kernelspec": {
   "display_name": "Python 3",
   "language": "python",
   "name": "python3"
  },
  "language_info": {
   "codemirror_mode": {
    "name": "ipython",
    "version": 3
   },
   "file_extension": ".py",
   "mimetype": "text/x-python",
   "name": "python",
   "nbconvert_exporter": "python",
   "pygments_lexer": "ipython3",
   "version": "3.9.5"
  }
 },
 "nbformat": 4,
 "nbformat_minor": 5
}
