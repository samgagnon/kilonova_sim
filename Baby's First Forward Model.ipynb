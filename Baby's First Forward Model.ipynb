{
 "cells": [
  {
   "cell_type": "code",
   "execution_count": 70,
   "id": "489e604d",
   "metadata": {},
   "outputs": [],
   "source": [
    "import mosfit\n",
    "import numpy as np\n",
    "import time\n",
    "import swyft\n",
    "\n",
    "import astropy.cosmology as cosmo\n",
    "import astropy.units as u\n",
    "\n",
    "from astropy.cosmology import z_at_value\n",
    "from gwtoolbox import tools_earth\n",
    "from scipy.stats import truncnorm"
   ]
  },
  {
   "cell_type": "markdown",
   "id": "706cc9f2",
   "metadata": {},
   "source": [
    "**Utility Methods**"
   ]
  },
  {
   "cell_type": "code",
   "execution_count": 2,
   "id": "c6fdd8dc",
   "metadata": {},
   "outputs": [],
   "source": [
    "def jansky(mab):\n",
    "    return 10**((8.9-mab)/2.5)"
   ]
  },
  {
   "cell_type": "markdown",
   "id": "9f83b18a",
   "metadata": {},
   "source": [
    "**Class Methods and Features**"
   ]
  },
  {
   "cell_type": "markdown",
   "id": "d74c4bde",
   "metadata": {},
   "source": [
    "*Gravitational Wave Generator*"
   ]
  },
  {
   "cell_type": "code",
   "execution_count": 3,
   "id": "ade9ce49",
   "metadata": {},
   "outputs": [],
   "source": [
    "def gwtoolbox_gen(H0_true):\n",
    "    Om0 = 0.31\n",
    "    T0 = 2.725\n",
    "    # generate desired cosmology\n",
    "    cosmos = tools_earth.set_cosmology(None, H0_true, Om0, T0)\n",
    "    # R0, tau, m_mean, m_sclae, m_low, m_high, chi_sigma\n",
    "    # R0: merger rate [/yr/Gpc3] \n",
    "    # tau: Delay time from formation to merger [Gyr]\n",
    "    # mass mean, standard deviation, low, high [solar masses]\n",
    "    # dispersion of effective spin\n",
    "    # be sure to keep these consistent with MOSFIT!\n",
    "    # find sauce to motivate the selected values\n",
    "    BNS_par = [300,3,1.4,0.5,1.1,2.5,0.1]\n",
    "    # summon the desired tool (LIGO)\n",
    "    Tools = tools_earth.Tools(detector_type='ligo', event_type='nsns',\\\n",
    "                              population=BNS_par, cosmos=cosmos)\n",
    "    # set generator parameters\n",
    "    time_obs = 60*24*365 # units of minutes of observation\n",
    "    rho_cri = 8 # signal-to-noise ratio cutoff\n",
    "    tot_num = Tools.total_number(time_obs, rho_cri)\n",
    "    # returns keys 'z','D','m1','m2','χ','dz','dm1','dm2','dχ','dD','dtb'\n",
    "    list_det = Tools.list_with_errors_df(time_obs, rho_cri, dtp=True)\n",
    "    params = [list_det['z'], list_det['D'], list_det['m1'], list_det['m2'],\\\n",
    "              list_det['χ'], list_det['dz'], list_det['dm1'], list_det['dm2'],\\\n",
    "              list_det['dχ'], list_det['dD'], list_det['dtb']]\n",
    "    return params"
   ]
  },
  {
   "cell_type": "markdown",
   "id": "f354eb24",
   "metadata": {},
   "source": [
    "I will want to turn this into a one-off O4 generator as follows: \n",
    "1. Generate all 20-something gravitational waves for one year\n",
    "2. determine the fraction which have GW detections\n",
    "3. use mosfit to determine the fraction which have EM detections"
   ]
  },
  {
   "cell_type": "markdown",
   "id": "438d2a57",
   "metadata": {},
   "source": [
    "For the time being, let us take a single event and run our forward model for this event"
   ]
  },
  {
   "cell_type": "code",
   "execution_count": 4,
   "id": "b8cb02fc",
   "metadata": {},
   "outputs": [],
   "source": [
    "o4_all = gwtoolbox_gen(70)"
   ]
  },
  {
   "cell_type": "code",
   "execution_count": 5,
   "id": "985da3f4",
   "metadata": {},
   "outputs": [],
   "source": [
    "# z, DL, m1, m2, etc...\n",
    "single_event = np.array(o4_all).T[0]"
   ]
  },
  {
   "cell_type": "code",
   "execution_count": 12,
   "id": "f3f715de",
   "metadata": {},
   "outputs": [
    {
     "data": {
      "text/plain": [
       "array([7.72063605e-02, 3.49698509e+02, 1.96132640e+00, 1.41396710e+00,\n",
       "       2.37410262e-01, 3.86031803e-02, 9.80663198e-02, 7.06983552e-02,\n",
       "       3.62016785e-04, 1.84098413e+02, 6.60000000e-02])"
      ]
     },
     "execution_count": 12,
     "metadata": {},
     "output_type": "execute_result"
    }
   ],
   "source": [
    "single_event"
   ]
  },
  {
   "cell_type": "markdown",
   "id": "3bbe7740",
   "metadata": {},
   "source": [
    "At this stage, I sample all of my favorite parameters from their priors. In the baby model, I will only sample $H_0$ and $v$, while leaving all other parameters fixed."
   ]
  },
  {
   "cell_type": "markdown",
   "id": "55b85706",
   "metadata": {},
   "source": [
    "Rather than using GWToolBox for now, I'm going to create some very simple kilonovae from scratch and create a method to determine whether or not they were detected."
   ]
  },
  {
   "cell_type": "markdown",
   "id": "c9d5580f",
   "metadata": {},
   "source": [
    "**Generating True Events from Scratch**"
   ]
  },
  {
   "cell_type": "markdown",
   "id": "bb33b953",
   "metadata": {},
   "source": [
    "The idea here is to have two events at exactly the same distance. The only thing which will distinguish between them is their inclination angle"
   ]
  },
  {
   "cell_type": "code",
   "execution_count": 48,
   "id": "842bf908",
   "metadata": {},
   "outputs": [],
   "source": [
    "# assume a true value for the Hubble constant\n",
    "u_true = cosmo.FlatLambdaCDM(70, 0.27)\n",
    "# set the true redshift of the events\n",
    "z_true = 0.031\n",
    "# calculate the true distance of the events\n",
    "d_true = u_true.luminosity_distance(z_true).value\n",
    "m1_true = 1.4\n",
    "m2_true = 1.4"
   ]
  },
  {
   "cell_type": "code",
   "execution_count": 49,
   "id": "d1e7887c",
   "metadata": {},
   "outputs": [],
   "source": [
    "# z, dl, m1, m2, v\n",
    "# event_list = [[z_true, d_true, m1_true, m2_true, 0.1, False],[z_true, d_true, m1_true, m2_true, 0.9, True]]\n",
    "# let's leave two events for later due to the complications of observed and unobserved events being put together\n",
    "event_list = [[z_true, d_true, m1_true, m2_true, 0.1, False]]\n",
    "det_obs = [False]"
   ]
  },
  {
   "cell_type": "code",
   "execution_count": 50,
   "id": "94459613",
   "metadata": {},
   "outputs": [
    {
     "data": {
      "text/plain": [
       "True"
      ]
     },
     "execution_count": 50,
     "metadata": {},
     "output_type": "execute_result"
    }
   ],
   "source": [
    "[False, False] == [False, False]"
   ]
  },
  {
   "cell_type": "code",
   "execution_count": 7,
   "id": "04631a69",
   "metadata": {},
   "outputs": [],
   "source": [
    "# I am still unsure as to the effect of the limiting magnitude here, besides setting a cutoff\n",
    "\n",
    "my_fitter = mosfit.fitter.Fitter(quiet=False, test=True, offline=False)\n",
    "# my_fitter = mosfit.fitter.Fitter(limiting_magnitude=23.3, quiet=False, test=True, offline=False)"
   ]
  },
  {
   "cell_type": "code",
   "execution_count": 8,
   "id": "3ec3c939",
   "metadata": {},
   "outputs": [],
   "source": [
    "fixed_params = {\"ebv\": 2.2, \"rvhost\": 3.1, \"frad\": 0.999, \"nnhost\": 1e18,\\\n",
    "              \"texplosion\": -0.01, \"temperature\": 2500, \"kappa_red\": 10,\\\n",
    "              \"kappa_blue\": 0.5, \"kappagamma\": 10000.0, \"Mchirp\": 1.188,\\\n",
    "              \"q\": 0.92, \"cos_theta\": 0.5, \"cos_theta_open\": 0.707107,\\\n",
    "              \"disk_frac\": 0.15, \"radius_ns\": 11.0, \"alpha\": 1.0,\\\n",
    "              \"Mtov\": 2.2, \"cos_theta_cocoon\": 0.5, \"tshock\": 1.7,\\\n",
    "              \"temperature_shock\": 100, \"lumdist\": 400, \"redshift\": 0.9}\n",
    "              \n",
    "# ebv: host galaxy extinction, sampled from RA/DEC\n",
    "# rvhost: host galaxy extinction (?)\n",
    "# frad: no idea\n",
    "# nnhost: no idea\n",
    "# texplosion: when the explosion occurs (?)\n",
    "# temperature: surface temperature of NS (?)\n",
    "# kappa_red: no idea\n",
    "# kappa_blue: no idea\n",
    "# kappagamma: no idea\n",
    "# Mchirp: the chirp mass\n",
    "# q: M1/M2 ratio\n",
    "# cos_theta: orientation angle\n",
    "# cos_theta_open: no idea\n",
    "# disk_frac: no idea\n",
    "# radius_ns: radius of NS (?)\n",
    "# alpha: no idea\n",
    "# Mtov: no idea\n",
    "# cos_theta_cocoon: no idea\n",
    "# tshock: time of shock (?)\n",
    "# temperature_shock: temperature of shock (?)"
   ]
  },
  {
   "cell_type": "code",
   "execution_count": 61,
   "id": "da819bd0",
   "metadata": {},
   "outputs": [],
   "source": [
    "def light_curve(fitfunc, fixed_params):\n",
    "    \"\"\"\n",
    "    Given a fit function and a list of fixed parameters, generates a light curve using mosfit \n",
    "    and returns whether a detection is made.\n",
    "    args:\n",
    "    - fixed_params: dictionary of fixed parameters\n",
    "    returns:\n",
    "    - detection: bool\n",
    "    \n",
    "    To do: this should also take the observing time window in units of days after the explosion,\n",
    "    the magnitude cutoff of each observing band, and probably something else.\n",
    "    \"\"\"\n",
    "    # convert dictionary to list\n",
    "    # consider turning this into a utility function\n",
    "    fpar = [\"ebv\", fixed_params['ebv'], \"rvhost\", fixed_params['rvhost'],\\\n",
    "            \"frad\", fixed_params['frad'], \"nnhost\", fixed_params['nnhost'],\\\n",
    "            \"texplosion\", fixed_params['texplosion'],\\\n",
    "            \"temperature\", fixed_params['temperature'],\\\n",
    "            \"kappa_red\", fixed_params['kappa_red'],\\\n",
    "            \"kappa_blue\", fixed_params['kappa_blue'],\\\n",
    "            \"kappagamma\", fixed_params['kappagamma'],\\\n",
    "            \"Mchirp\", fixed_params['Mchirp'],\\\n",
    "            \"q\", fixed_params['q'], \"cos_theta\", fixed_params['cos_theta'],\\\n",
    "            \"cos_theta_open\", fixed_params['cos_theta_open'],\\\n",
    "            \"disk_frac\", fixed_params['disk_frac'],\\\n",
    "            \"radius_ns\", fixed_params['radius_ns'],\\\n",
    "            \"alpha\", fixed_params['alpha'], \"Mtov\", fixed_params['Mtov'],\\\n",
    "            \"cos_theta_cocoon\", fixed_params['cos_theta_cocoon'],\\\n",
    "            \"tshock\", fixed_params['tshock'], \"temperature_shock\",\\\n",
    "            fixed_params['temperature_shock'],\\\n",
    "            \"lumdist\", fixed_params['lumdist'], \"redshift\", fixed_params['redshift']]\n",
    "    # create kwargs dict using fixed_params\n",
    "    kwargs = dict(events=[], models=['bns_generative'],\\\n",
    "              max_time=4, band_list=\"z\", band_systems=\"AB\", iterations=0, num_walkers=1,\\\n",
    "              smooth_times=4, suffix=\"jupyter_test\", user_fixed_parameters=fpar,\\\n",
    "             quiet=True)\n",
    "    # run mosfit\n",
    "    entries, ps, lnprobs = my_fitter.fit_events(**kwargs)\n",
    "    # get observed magnitudes\n",
    "    # see if there is any way to do this without a for loop\n",
    "    obs_mags = []\n",
    "    for entry in entries[0][0]['photometry']:\n",
    "        if entry['system'] == 'AB':\n",
    "            obs_mags += [float(entry['magnitude'])]\n",
    "    print(obs_mags)\n",
    "    # magnitude probability of detection\n",
    "    sig10 = 23.3\n",
    "#     mclip_a = 0\n",
    "#     mclip_b = 100\n",
    "#     m_std = abs((jansky(sig10)) / 10)\n",
    "#     a, b = mclip_a / m_std, mclip_b / m_std\n",
    "#     v = truncnorm(a,b)\n",
    "#     # see if the lowest magnitude beats our probabilistic detection threshold\n",
    "#     flux_obs = jansky(np.array(obs_mags))\n",
    "#     obs_probs = v.cdf(flux_obs/m_std)\n",
    "#     mprob = np.random.uniform(0,1)\n",
    "#     detect = mprob < obs_probs\n",
    "    detect = min(obs_mags) <= sig10\n",
    "#     return True in detect\n",
    "    return detect"
   ]
  },
  {
   "cell_type": "code",
   "execution_count": 71,
   "id": "6a9c5d9b",
   "metadata": {},
   "outputs": [],
   "source": [
    "# set simulator parameters\n",
    "DEVICE = 'cpu'  # replace with 'cpu' if no GPU is available\n",
    "Ntrain = 10\n",
    "Npar = 2"
   ]
  },
  {
   "cell_type": "code",
   "execution_count": 68,
   "id": "7c219f57",
   "metadata": {},
   "outputs": [],
   "source": [
    "def simulator(v):\n",
    "    # get terms from input vector\n",
    "    H0 = v[0]\n",
    "    v0 = v[1]\n",
    "    det_list = []\n",
    "    for event in event_list:\n",
    "        print(event)\n",
    "        # use results from GWToolbox to get the true DL, M1, M2\n",
    "        TDL = event[1]\n",
    "        M1 = event[2]\n",
    "        M2 = event[3]\n",
    "        # derived mass quantities\n",
    "        Q = M1/M2\n",
    "        Mchirp = ((M1*M2)**3/(M1+M2))**(1/5)\n",
    "        # create a cosmology from H0 and generate the true redshift\n",
    "        # in this sample cosmology\n",
    "        # assume omega_m=0.31 (make sure this is consistent with GWTB)\n",
    "        universe = cosmo.FlatLambdaCDM(H0, 0.31)\n",
    "        # \"z in cosmology\"\n",
    "        ZIC = z_at_value(universe.luminosity_distance, TDL*u.Mpc)\n",
    "        fixed_params = {\"ebv\": 2.2, \"rvhost\": 3.1, \"frad\": 0.999, \"nnhost\": 1e18,\\\n",
    "                  \"texplosion\": -0.01, \"temperature\": 2500, \"kappa_red\": 10,\\\n",
    "                  \"kappa_blue\": 0.5, \"kappagamma\": 10000.0, \"Mchirp\": Mchirp,\\\n",
    "                  \"q\": Q, \"cos_theta\": v0, \"cos_theta_open\": 0.707107,\\\n",
    "                  \"disk_frac\": 0.15, \"radius_ns\": 11.0, \"alpha\": 1.0,\\\n",
    "                  \"Mtov\": 2.2, \"cos_theta_cocoon\": 0.5, \"tshock\": 1.7,\\\n",
    "                  \"temperature_shock\": 100, \"lumdist\": TDL, \"redshift\": ZIC}\n",
    "        det = light_curve(my_fitter, fixed_params)\n",
    "        det_list += [det]\n",
    "    if det_list == det_obs:\n",
    "        x = [1.0]*Npar\n",
    "    else:\n",
    "        x = [0.0]*Npar\n",
    "    return dict(x=x)"
   ]
  },
  {
   "cell_type": "code",
   "execution_count": 69,
   "id": "6f17dfe5",
   "metadata": {},
   "outputs": [
    {
     "name": "stdout",
     "output_type": "stream",
     "text": [
      "[0.031, 136.01490866174305, 1.4, 1.4, 0.1, False]\n",
      "\n",
      "Basic model file:\n",
      "  C:\\Users\\sgagn\\Anaconda3\\envs\\kn\\Lib\\site-packages\\mosfit\\models\\model.json\n",
      "Model file:\n",
      "  C:\\Users\\sgagn\\Anaconda3\\envs\\kn\\Lib\\site-packages\\mosfit\\models\\bns_generative\\bns_generative.json\n",
      "Parameter file:\n",
      "  models\\bns_generative\\parameters.json\n",
      "No event specified, generating dummy data.\n",
      "\n",
      "Loading data...\n",
      "\n",
      "Loading module `transient` [ 0% ]\n",
      "Constructing observation array [ 0.0% ]\n",
      "Constructing observation array [ 25.0% ]\n",
      "Constructing observation array [ 50.0% ]\n",
      "Constructing observation array [ 75.0% ]\n",
      "\n",
      "Loading module `lumdist` [ 2% ]\n",
      "\n",
      "Loading module `redshift` [ 3% ]\n",
      "\n",
      "Loading module `alltimes` [ 5% ]\n",
      "\n",
      "Loading module `texplosion` [ 7% ]\n",
      "\n",
      "Loading module `resttimes` [ 8% ]\n",
      "\n",
      "Loading module `Mchirp` [ 10% ]\n",
      "\n",
      "Loading module `q` [ 12% ]\n",
      "\n",
      "Loading module `disk_frac` [ 13% ]\n",
      "\n",
      "Loading module `radius_ns` [ 15% ]\n",
      "\n",
      "Loading module `alpha` [ 17% ]\n",
      "\n",
      "Loading module `Mtov` [ 18% ]\n",
      "\n",
      "Loading module `errMdyn` [ 20% ]\n",
      "\n",
      "Loading module `errMdisk` [ 22% ]\n",
      "\n",
      "Loading module `densetimes` [ 23% ]\n",
      "\n",
      "Loading module `frad` [ 25% ]\n",
      "\n",
      "Loading module `kappa_blue` [ 27% ]\n",
      "\n",
      "Loading module `cos_theta` [ 28% ]\n",
      "\n",
      "Loading module `cos_theta_open` [ 30% ]\n",
      "\n",
      "Loading module `cos_theta_cocoon` [ 32% ]\n",
      "\n",
      "Loading module `s` [ 33% ]\n",
      "\n",
      "Loading module `tshock` [ 35% ]\n",
      "\n",
      "Loading module `bns_ejecta_generative` [ 37% ]\n",
      "\n",
      "Loading module `kappa_red` [ 38% ]\n",
      "\n",
      "Loading module `kappagamma` [ 40% ]\n",
      "\n",
      "Loading module `temperature_shock` [ 42% ]\n",
      "\n",
      "Loading module `aspherical_kilonova` [ 43% ]\n",
      "\n",
      "Loading module `shock_cocoon` [ 45% ]\n",
      "\n",
      "Loading module `rprocess` [ 47% ]\n",
      "\n",
      "Loading module `temperature` [ 48% ]\n",
      "\n",
      "Loading module `temperature_floor` [ 50% ]\n",
      "\n",
      "Loading module `diffusion_aspherical` [ 52% ]\n",
      "\n",
      "Loading module `rprocess2` [ 53% ]\n",
      "\n",
      "Loading module `blackbody` [ 55% ]\n",
      "\n",
      "Loading module `temperature_floor1` [ 57% ]\n",
      "\n",
      "Loading module `diffusion2` [ 58% ]\n",
      "\n",
      "Loading module `rprocess3` [ 60% ]\n",
      "\n",
      "Loading module `blackbody1` [ 62% ]\n",
      "\n",
      "Loading module `temperature_floor2` [ 63% ]\n",
      "\n",
      "Loading module `diffusion3` [ 65% ]\n",
      "\n",
      "Loading module `blackbody2` [ 67% ]\n",
      "\n",
      "Loading module `temperature_floor3` [ 68% ]\n",
      "\n",
      "Loading module `ebv` [ 70% ]\n",
      "\n",
      "Loading module `rvhost` [ 72% ]\n",
      "\n",
      "Loading module `nhhost` [ 73% ]\n",
      "\n",
      "Loading module `blackbody3` [ 75% ]\n",
      "\n",
      "Loading module `losextinction` [ 77% ]\n",
      "\n",
      "Loading module `default_upper_limit_error` [ 78% ]\n",
      "\n",
      "Loading module `default_no_error_bar_error` [ 80% ]\n",
      "\n",
      "Loading module `variance` [ 82% ]\n",
      "\n",
      "Loading module `codeltatime` [ 83% ]\n",
      "\n",
      "Loading module `codeltalambda` [ 85% ]\n",
      "\n",
      "Loading module `photometry` [ 87% ]\n",
      "\n",
      "Loading module `fitkernel` [ 88% ]\n",
      "\n",
      "Loading module `diagonal` [ 90% ]\n",
      "\n",
      "Loading module `oakernel` [ 92% ]\n",
      "\n",
      "Loading module `aokernel` [ 93% ]\n",
      "\n",
      "Loading module `fullkernel` [ 95% ]\n",
      "\n",
      "Loading module `likelihood` [ 97% ]\n",
      "\n",
      "Loading module `fitlc` [ 98% ]\n",
      "\n",
      "Finding bands...\n",
      "Loading bands complete.\n",
      "\n",
      "Bands being used for current transient:\n",
      "  SLOAN/SDSS.z [System: AB]\n",
      "\n",
      "2 measurements, 0 free parameters.\n",
      "Initial draws completed!\n",
      "\n",
      "Constructing output...\n",
      "All walkers written.\n",
      "[28.12840675163752, 23.189372426499073, 23.68661333067582, 24.010640575514408]\n"
     ]
    },
    {
     "data": {
      "text/plain": [
       "{'x': [0.0, 0.0]}"
      ]
     },
     "execution_count": 69,
     "metadata": {},
     "output_type": "execute_result"
    }
   ],
   "source": [
    "simulator([80, 0.9])"
   ]
  },
  {
   "cell_type": "markdown",
   "id": "0888798a",
   "metadata": {},
   "source": [
    "**Congratulations!**\n",
    "You now have a working forward model! With the data you've given it, it is only informative for priors which stretch beyond $h=0.8$, so let's make sure to define a broad prior."
   ]
  },
  {
   "cell_type": "code",
   "execution_count": 95,
   "id": "0bda3ad4",
   "metadata": {},
   "outputs": [],
   "source": [
    "# a TMNRE prior function take a random variable between 0 and 1 and produces an input vector from a prior of your choice\n",
    "\n",
    "def prior_func(u):\n",
    "    H0 = 50 * u[0] + 50\n",
    "    v = np.cos(np.pi / 2 * u[1])\n",
    "    return np.array([H0, v])"
   ]
  },
  {
   "cell_type": "code",
   "execution_count": 112,
   "id": "227f6647",
   "metadata": {},
   "outputs": [
    {
     "name": "stdout",
     "output_type": "stream",
     "text": [
      "Creating new store.\n"
     ]
    }
   ],
   "source": [
    "simulator = swyft.Simulator(simulator, Npar, sim_shapes = {\"x\": [Npar]})\n",
    "store = swyft.MemoryStore(simulator)"
   ]
  },
  {
   "cell_type": "code",
   "execution_count": 113,
   "id": "8286b8b7",
   "metadata": {},
   "outputs": [],
   "source": [
    "prior = swyft.Prior(prior_func, Npar)\n",
    "store.add(3000, prior)\n",
    "store.simulate()"
   ]
  },
  {
   "cell_type": "code",
   "execution_count": 114,
   "id": "4bb910bd",
   "metadata": {},
   "outputs": [
    {
     "ename": "RuntimeError",
     "evalue": "Not enough simulations in store",
     "output_type": "error",
     "traceback": [
      "\u001b[1;31m---------------------------------------------------------------------------\u001b[0m",
      "\u001b[1;31mRuntimeError\u001b[0m                              Traceback (most recent call last)",
      "\u001b[1;32m<ipython-input-114-2f8d8db9cbe2>\u001b[0m in \u001b[0;36m<module>\u001b[1;34m\u001b[0m\n\u001b[1;32m----> 1\u001b[1;33m \u001b[0mdataset\u001b[0m \u001b[1;33m=\u001b[0m \u001b[0mswyft\u001b[0m\u001b[1;33m.\u001b[0m\u001b[0mDataset\u001b[0m\u001b[1;33m(\u001b[0m\u001b[1;36m3000\u001b[0m\u001b[1;33m,\u001b[0m \u001b[0mprior\u001b[0m\u001b[1;33m,\u001b[0m \u001b[0mstore\u001b[0m\u001b[1;33m)\u001b[0m\u001b[1;33m\u001b[0m\u001b[1;33m\u001b[0m\u001b[0m\n\u001b[0m\u001b[0;32m      2\u001b[0m \u001b[0mpost\u001b[0m \u001b[1;33m=\u001b[0m \u001b[0mswyft\u001b[0m\u001b[1;33m.\u001b[0m\u001b[0mPosteriors\u001b[0m\u001b[1;33m(\u001b[0m\u001b[0mdataset\u001b[0m\u001b[1;33m)\u001b[0m\u001b[1;33m\u001b[0m\u001b[1;33m\u001b[0m\u001b[0m\n",
      "\u001b[1;32m~\\Anaconda3\\envs\\kn\\lib\\site-packages\\swyft\\store\\dataset.py\u001b[0m in \u001b[0;36m__init__\u001b[1;34m(self, N, prior, store, bound, simhook, simkeys)\u001b[0m\n\u001b[0;32m     47\u001b[0m         \u001b[0mself\u001b[0m\u001b[1;33m.\u001b[0m\u001b[0m_indices\u001b[0m \u001b[1;33m=\u001b[0m \u001b[0mstore\u001b[0m\u001b[1;33m.\u001b[0m\u001b[0msample\u001b[0m\u001b[1;33m(\u001b[0m\u001b[0mN\u001b[0m\u001b[1;33m,\u001b[0m \u001b[0mprior\u001b[0m\u001b[1;33m,\u001b[0m \u001b[0mbound\u001b[0m\u001b[1;33m=\u001b[0m\u001b[0mbound\u001b[0m\u001b[1;33m)\u001b[0m\u001b[1;33m\u001b[0m\u001b[1;33m\u001b[0m\u001b[0m\n\u001b[0;32m     48\u001b[0m         \u001b[1;32mif\u001b[0m \u001b[0mlen\u001b[0m\u001b[1;33m(\u001b[0m\u001b[0mself\u001b[0m\u001b[1;33m.\u001b[0m\u001b[0m_indices\u001b[0m\u001b[1;33m)\u001b[0m \u001b[1;33m==\u001b[0m \u001b[1;36m0\u001b[0m\u001b[1;33m:\u001b[0m\u001b[1;33m\u001b[0m\u001b[1;33m\u001b[0m\u001b[0m\n\u001b[1;32m---> 49\u001b[1;33m             \u001b[1;32mraise\u001b[0m \u001b[0mRuntimeError\u001b[0m\u001b[1;33m(\u001b[0m\u001b[1;34m\"Not enough simulations in store\"\u001b[0m\u001b[1;33m)\u001b[0m\u001b[1;33m\u001b[0m\u001b[1;33m\u001b[0m\u001b[0m\n\u001b[0m\u001b[0;32m     50\u001b[0m \u001b[1;33m\u001b[0m\u001b[0m\n\u001b[0;32m     51\u001b[0m         \u001b[0mself\u001b[0m\u001b[1;33m.\u001b[0m\u001b[0m_store\u001b[0m \u001b[1;33m=\u001b[0m \u001b[0mstore\u001b[0m\u001b[1;33m\u001b[0m\u001b[1;33m\u001b[0m\u001b[0m\n",
      "\u001b[1;31mRuntimeError\u001b[0m: Not enough simulations in store"
     ]
    }
   ],
   "source": [
    "dataset = swyft.Dataset(3000, prior, store)\n",
    "post = swyft.Posteriors(dataset)"
   ]
  },
  {
   "cell_type": "code",
   "execution_count": 109,
   "id": "555e4e5a",
   "metadata": {},
   "outputs": [
    {
     "data": {
      "text/plain": [
       "<swyft.store.store.MemoryStore at 0x1790ce271c0>"
      ]
     },
     "execution_count": 109,
     "metadata": {},
     "output_type": "execute_result"
    }
   ],
   "source": []
  },
  {
   "cell_type": "code",
   "execution_count": null,
   "id": "73ba1819",
   "metadata": {},
   "outputs": [],
   "source": []
  }
 ],
 "metadata": {
  "kernelspec": {
   "display_name": "Python 3",
   "language": "python",
   "name": "python3"
  },
  "language_info": {
   "codemirror_mode": {
    "name": "ipython",
    "version": 3
   },
   "file_extension": ".py",
   "mimetype": "text/x-python",
   "name": "python",
   "nbconvert_exporter": "python",
   "pygments_lexer": "ipython3",
   "version": "3.9.5"
  }
 },
 "nbformat": 4,
 "nbformat_minor": 5
}
