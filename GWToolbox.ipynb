{
 "cells": [
  {
   "cell_type": "code",
   "execution_count": 58,
   "id": "58477afa",
   "metadata": {},
   "outputs": [],
   "source": [
    "from gwtoolbox import tools_earth\n",
    "from gwtoolbox.sources_kHz import DNS\n",
    "from gwtoolbox.functions_earth import rho_sq_core\n",
    "import matplotlib.pyplot as plt\n",
    "import numpy as np\n",
    "import os"
   ]
  },
  {
   "cell_type": "code",
   "execution_count": 46,
   "id": "0952222c",
   "metadata": {},
   "outputs": [],
   "source": [
    "# set cosmological parameters\n",
    "H0 = 70\n",
    "Om0 = 0.3\n",
    "T0 = 2.725"
   ]
  },
  {
   "cell_type": "code",
   "execution_count": 9,
   "id": "9f048817",
   "metadata": {},
   "outputs": [],
   "source": [
    "# generate desired cosmology\n",
    "cosmos = tools_earth.set_cosmology(None, H0, Om0, T0)"
   ]
  },
  {
   "cell_type": "code",
   "execution_count": 10,
   "id": "daeb04a4",
   "metadata": {},
   "outputs": [],
   "source": [
    "# R0, tau, m_mean, m_sclae, m_low, m_high, chi_sigma\n",
    "# R0: merger rate [/yr/Gpc3] \n",
    "# tau: Delay time from formation to merger [Gyr]\n",
    "# mass mean, standard deviation, low, high [solar masses]\n",
    "# dispersion of effective spin\n",
    "# be sure to keep these consistent with MOSFIT!\n",
    "# find sauce to motivate the selected values\n",
    "BNS_par = [300,3,1.4,0.5,1.1,2.5,0.1]"
   ]
  },
  {
   "cell_type": "code",
   "execution_count": 71,
   "id": "28cb60af",
   "metadata": {},
   "outputs": [],
   "source": [
    "# summon the desired tool (LIGO)\n",
    "Tools = tools_earth.Tools(detector_type='ligo', event_type='nsns', population=BNS_par, cosmos=cosmos)"
   ]
  },
  {
   "cell_type": "code",
   "execution_count": 66,
   "id": "94fbf853",
   "metadata": {},
   "outputs": [
    {
     "data": {
      "text/plain": [
       "(<bound method LigoLike.ante_pattern of <gwtoolbox.detectors_earth.LigoLike object at 0x000002157DC332B0>>,\n",
       " [array([   5.    ,    5.0115,    5.0231, ..., 4977.    , 4988.5   ,\n",
       "         5000.    ]),\n",
       "  array([3.99880009e-40, 3.78769444e-40, 3.58799364e-40, ...,\n",
       "         6.01426576e-46, 6.04176400e-46, 6.06981769e-46])])"
      ]
     },
     "execution_count": 66,
     "metadata": {},
     "output_type": "execute_result"
    }
   ],
   "source": [
    "Tools.detector.ante_pattern, Tools.noise"
   ]
  },
  {
   "cell_type": "code",
   "execution_count": 15,
   "id": "ba2860a1",
   "metadata": {},
   "outputs": [],
   "source": [
    "# set generator parameters\n",
    "time_obs = 60*24*100 # units of minutes of observation\n",
    "rho_cri = 8 # signal-to-noise ratio cutoff"
   ]
  },
  {
   "cell_type": "code",
   "execution_count": 16,
   "id": "8e91a770",
   "metadata": {},
   "outputs": [
    {
     "name": "stdout",
     "output_type": "stream",
     "text": [
      "6.589070552508693\n"
     ]
    }
   ],
   "source": [
    "tot_num = Tools.total_number(time_obs, rho_cri)\n",
    "print(tot_num)"
   ]
  },
  {
   "cell_type": "code",
   "execution_count": 17,
   "id": "c9e00103",
   "metadata": {
    "scrolled": true
   },
   "outputs": [],
   "source": [
    "# returns keys 'z','D','m1','m2','χ','dz','dm1','dm2','dχ','dD','dtb'\n",
    "list_det = Tools.list_with_errors_df(time_obs, rho_cri, dtp=True)"
   ]
  },
  {
   "cell_type": "code",
   "execution_count": 19,
   "id": "22fc14b2",
   "metadata": {},
   "outputs": [
    {
     "data": {
      "text/html": [
       "<div>\n",
       "<style scoped>\n",
       "    .dataframe tbody tr th:only-of-type {\n",
       "        vertical-align: middle;\n",
       "    }\n",
       "\n",
       "    .dataframe tbody tr th {\n",
       "        vertical-align: top;\n",
       "    }\n",
       "\n",
       "    .dataframe thead th {\n",
       "        text-align: right;\n",
       "    }\n",
       "</style>\n",
       "<table border=\"1\" class=\"dataframe\">\n",
       "  <thead>\n",
       "    <tr style=\"text-align: right;\">\n",
       "      <th></th>\n",
       "      <th>z</th>\n",
       "      <th>D</th>\n",
       "      <th>m1</th>\n",
       "      <th>m2</th>\n",
       "      <th>χ</th>\n",
       "      <th>dz</th>\n",
       "      <th>dm1</th>\n",
       "      <th>dm2</th>\n",
       "      <th>dχ</th>\n",
       "      <th>dD</th>\n",
       "      <th>dtb</th>\n",
       "      <th>inc</th>\n",
       "    </tr>\n",
       "  </thead>\n",
       "  <tbody>\n",
       "    <tr>\n",
       "      <th>0</th>\n",
       "      <td>0.084105</td>\n",
       "      <td>382.983454</td>\n",
       "      <td>2.135318</td>\n",
       "      <td>1.994486</td>\n",
       "      <td>-0.028240</td>\n",
       "      <td>0.042053</td>\n",
       "      <td>0.126951</td>\n",
       "      <td>0.116534</td>\n",
       "      <td>0.000457</td>\n",
       "      <td>202.536785</td>\n",
       "      <td>0.090</td>\n",
       "      <td>1.036583</td>\n",
       "    </tr>\n",
       "    <tr>\n",
       "      <th>1</th>\n",
       "      <td>0.085896</td>\n",
       "      <td>391.618666</td>\n",
       "      <td>1.393244</td>\n",
       "      <td>2.401044</td>\n",
       "      <td>0.106019</td>\n",
       "      <td>0.042948</td>\n",
       "      <td>0.069662</td>\n",
       "      <td>0.120052</td>\n",
       "      <td>0.000386</td>\n",
       "      <td>207.314516</td>\n",
       "      <td>0.059</td>\n",
       "      <td>0.844997</td>\n",
       "    </tr>\n",
       "    <tr>\n",
       "      <th>2</th>\n",
       "      <td>0.035731</td>\n",
       "      <td>157.208362</td>\n",
       "      <td>1.555424</td>\n",
       "      <td>1.291508</td>\n",
       "      <td>-0.113265</td>\n",
       "      <td>0.017865</td>\n",
       "      <td>0.077771</td>\n",
       "      <td>0.064575</td>\n",
       "      <td>0.000126</td>\n",
       "      <td>80.669288</td>\n",
       "      <td>0.386</td>\n",
       "      <td>1.195912</td>\n",
       "    </tr>\n",
       "    <tr>\n",
       "      <th>3</th>\n",
       "      <td>0.019167</td>\n",
       "      <td>83.297909</td>\n",
       "      <td>1.752236</td>\n",
       "      <td>2.213494</td>\n",
       "      <td>0.010256</td>\n",
       "      <td>0.009583</td>\n",
       "      <td>0.087612</td>\n",
       "      <td>0.110675</td>\n",
       "      <td>0.001524</td>\n",
       "      <td>42.250312</td>\n",
       "      <td>0.806</td>\n",
       "      <td>1.200677</td>\n",
       "    </tr>\n",
       "    <tr>\n",
       "      <th>4</th>\n",
       "      <td>0.058846</td>\n",
       "      <td>263.276081</td>\n",
       "      <td>1.815847</td>\n",
       "      <td>1.454056</td>\n",
       "      <td>-0.066602</td>\n",
       "      <td>0.029423</td>\n",
       "      <td>0.090792</td>\n",
       "      <td>0.072703</td>\n",
       "      <td>0.000212</td>\n",
       "      <td>137.146235</td>\n",
       "      <td>0.160</td>\n",
       "      <td>0.643220</td>\n",
       "    </tr>\n",
       "  </tbody>\n",
       "</table>\n",
       "</div>"
      ],
      "text/plain": [
       "          z           D        m1        m2         χ        dz       dm1  \\\n",
       "0  0.084105  382.983454  2.135318  1.994486 -0.028240  0.042053  0.126951   \n",
       "1  0.085896  391.618666  1.393244  2.401044  0.106019  0.042948  0.069662   \n",
       "2  0.035731  157.208362  1.555424  1.291508 -0.113265  0.017865  0.077771   \n",
       "3  0.019167   83.297909  1.752236  2.213494  0.010256  0.009583  0.087612   \n",
       "4  0.058846  263.276081  1.815847  1.454056 -0.066602  0.029423  0.090792   \n",
       "\n",
       "        dm2        dχ          dD    dtb       inc  \n",
       "0  0.116534  0.000457  202.536785  0.090  1.036583  \n",
       "1  0.120052  0.000386  207.314516  0.059  0.844997  \n",
       "2  0.064575  0.000126   80.669288  0.386  1.195912  \n",
       "3  0.110675  0.001524   42.250312  0.806  1.200677  \n",
       "4  0.072703  0.000212  137.146235  0.160  0.643220  "
      ]
     },
     "execution_count": 19,
     "metadata": {},
     "output_type": "execute_result"
    }
   ],
   "source": [
    "Tools.list_with_iota(list_det)"
   ]
  },
  {
   "cell_type": "code",
   "execution_count": 23,
   "id": "c4592a76",
   "metadata": {},
   "outputs": [],
   "source": [
    "dns = DNS(cosmos)"
   ]
  },
  {
   "cell_type": "code",
   "execution_count": 91,
   "id": "8ea07fd6",
   "metadata": {},
   "outputs": [],
   "source": [
    "def tel_fun(dns, z, m1, m2, iota, rho_cri, ant_fun, noise_tab):\n",
    "    \"\"\"\n",
    "    The telescope function of Laser Interferometers and kHz sources.\n",
    "\n",
    "    Parameters:\n",
    "      z (float): The redshift of the GW source\n",
    "      m1 (float): Red-shifted masses of the BHB\n",
    "      m2 (float): Red-shifted masses of the BHB\n",
    "      #chi (float): spin\n",
    "      iota (float): inclination angle in radians\n",
    "      rho_cri (float): The detection SNR threshold\n",
    "      ant_fun (function): antenna pattern\n",
    "      noise_tab (array of dtype float): noise function for detector\n",
    "\n",
    "    Returns:\n",
    "      (float): The probability of detection\n",
    "    \"\"\"\n",
    "    # both masses should be intrinsic here.\n",
    "    Mch = (m1*m2)**(5/6)/(m1+m2)**(1/5)\n",
    "    \n",
    "    random_angles_more=np.loadtxt(\"angles_more.dat\")\n",
    "    theta_array_more = random_angles_more[:,0]\n",
    "    varphi_array_more = random_angles_more[:,1]\n",
    "    iota_array_more = np.ones(len(random_angles_more[:,1]))*iota\n",
    "    psi_array_more = random_angles_more[:,3]\n",
    "    F = ant_fun(theta_array_more, varphi_array_more, psi_array_more)\n",
    "    A_array = dns.mod_norm(Mch*(1+z), F, iota_array_more, z)\n",
    "    \n",
    "    f_up = dns.freq_limit(m1=m1*(1+z), m2=m2*(1+z), chi=0)\n",
    "    f2=dns.freq_limit_merger(m1=m1*(1+z), m2=m2*(1+z), chi=0)\n",
    "    f3=dns.freq_limit_ringdown(m1=m1*(1+z), m2=m2*(1+z), chi=0)\n",
    "    freq_sig=dns.freq_sigma(m1=m1*(1+z), m2=m2*(1+z), chi=0)\n",
    "    f1=f_up\n",
    "    rho_sq_core_value = rho_sq_core(noise_tab, dns.mod_shape, f_up=f_up)\n",
    "    \n",
    "    if len(A_array.shape)==2:\n",
    "        rho_sq_array=4.*np.einsum('i...,i->i...',A_array**2,rho_sq_core_value)\n",
    "        heav_array = np.heaviside(rho_sq_array-rho_cri**2,0)\n",
    "\n",
    "        return np.mean(heav_array,axis=1)\n",
    "    else: \n",
    "        rho_sq_array = np.array(4.*A_array**2*rho_sq_core_value)\n",
    "        heav_array = np.heaviside(rho_sq_array-rho_cri**2,0)\n",
    "        return np.mean(heav_array)"
   ]
  },
  {
   "cell_type": "code",
   "execution_count": 103,
   "id": "434db5a5",
   "metadata": {},
   "outputs": [],
   "source": [
    "iota_array = np.linspace(0, np.pi/2, 100)\n",
    "pd = [tel_fun(dns, 0.04, 1.4, 1.4, iota, rho_cri, Tools.detector.ante_pattern, Tools.noise) for iota in iota_array]"
   ]
  },
  {
   "cell_type": "code",
   "execution_count": 105,
   "id": "ee416797",
   "metadata": {},
   "outputs": [
    {
     "data": {
      "image/png": "[encoded data removed]",
      "text/plain": [
       "<Figure size 576x432 with 1 Axes>"
      ]
     },
     "metadata": {
      "needs_background": "light"
     },
     "output_type": "display_data"
    }
   ],
   "source": [
    "plt.figure(figsize=(8,6))\n",
    "plt.plot(iota_array*180/np.pi, pd, '-k')\n",
    "plt.ylabel('Probability of Detection', fontsize=20)\n",
    "plt.xlabel('Inclination angle [$^\\circ$]', fontsize=20)\n",
    "plt.show()"
   ]
  },
  {
   "cell_type": "code",
   "execution_count": null,
   "id": "0374eabe",
   "metadata": {},
   "outputs": [],
   "source": []
  }
 ],
 "metadata": {
  "kernelspec": {
   "display_name": "Python 3",
   "language": "python",
   "name": "python3"
  },
  "language_info": {
   "codemirror_mode": {
    "name": "ipython",
    "version": 3
   },
   "file_extension": ".py",
   "mimetype": "text/x-python",
   "name": "python",
   "nbconvert_exporter": "python",
   "pygments_lexer": "ipython3",
   "version": "3.9.5"
  }
 },
 "nbformat": 4,
 "nbformat_minor": 5
}
