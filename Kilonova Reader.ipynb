{
 "cells": [
  {
   "cell_type": "code",
   "execution_count": 2,
   "metadata": {},
   "outputs": [],
   "source": [
    "import numpy as np\n",
    "import matplotlib.pyplot as plt"
   ]
  },
  {
   "cell_type": "code",
   "execution_count": 7,
   "metadata": {},
   "outputs": [],
   "source": [
    "def file_to_list(fn):\n",
    "    bns = {}\n",
    "    strl = fn.split(\"/\")[-1].split(\"_\")\n",
    "    bns['mc_packets'] = float(strl[0][3:])\n",
    "    bns['total_ejecta_mass'] = float(strl[1][3:])\n",
    "    bns['half_angle'] = float(strl[2][3:])\n",
    "    bns['T0'] = float(strl[3][1:-4])\n",
    "    with open(fn) as f:\n",
    "        n_ang = float(f.readline())\n",
    "        bns['n_ang'] = n_ang # number of viewing angles\n",
    "        n_wav = float(f.readline())\n",
    "        bns['n_wav'] = n_wav\n",
    "        time = f.readline().split(\" \")[:-1]\n",
    "        n_time = float(time[0])\n",
    "        bns['time'] = [float(i) for i in time]\n",
    "        j = 0\n",
    "        ang_unit = 1/(n_ang-1)# angle increment\n",
    "        view_angle = 0.0\n",
    "        while j < n_ang * n_wav:\n",
    "            if j % n_wav == 0:\n",
    "                flux_array = np.zeros((int(n_wav), int(n_time + 1)))\n",
    "                oa_str = 'oa' + str(np.round(view_angle,3))\n",
    "                view_angle += ang_unit\n",
    "                k = 0\n",
    "            wave_pack = f.readline().split(\" \")[:-1]\n",
    "            wave_pack = np.asarray([float(i) for i in wave_pack])\n",
    "            flux_array[k] = wave_pack\n",
    "            if k == (n_wav - 1):\n",
    "                bns[oa_str] = flux_array\n",
    "            j += 1\n",
    "            k += 1\n",
    "        f.close()\n",
    "    return bns"
   ]
  },
  {
   "cell_type": "code",
   "execution_count": 8,
   "metadata": {},
   "outputs": [],
   "source": [
    "bns = file_to_list('../kilonova_models/bns_m1_2comp/nph1.0e+06_mej0.01_phi15_T3.0e+03.txt')"
   ]
  },
  {
   "cell_type": "code",
   "execution_count": 22,
   "metadata": {},
   "outputs": [
    {
     "data": {
      "image/png": "[encoded data removed]",
      "text/plain": [
       "<Figure size 432x288 with 1 Axes>"
      ]
     },
     "metadata": {
      "needs_background": "light"
     },
     "output_type": "display_data"
    }
   ],
   "source": [
    "t = np.linspace(bns['time'][1], bns['time'][2], int(bns['time'][0]))\n",
    "# print(bns['oa1.0'][0])\n",
    "plt.plot(t, bns['oa1.0'][60][1:])\n",
    "plt.show()"
   ]
  },
  {
   "cell_type": "code",
   "execution_count": null,
   "metadata": {},
   "outputs": [],
   "source": []
  }
 ],
 "metadata": {
  "kernelspec": {
   "display_name": "Python 3",
   "language": "python",
   "name": "python3"
  },
  "language_info": {
   "codemirror_mode": {
    "name": "ipython",
    "version": 3
   },
   "file_extension": ".py",
   "mimetype": "text/x-python",
   "name": "python",
   "nbconvert_exporter": "python",
   "pygments_lexer": "ipython3",
   "version": "3.8.3"
  }
 },
 "nbformat": 4,
 "nbformat_minor": 4
}
