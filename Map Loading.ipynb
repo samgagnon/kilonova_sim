{
 "cells": [
  {
   "cell_type": "code",
   "execution_count": 42,
   "metadata": {},
   "outputs": [],
   "source": [
    "import numpy as np\n",
    "import requests\n",
    "import urllib.parse\n",
    "import os, sys, json\n",
    "\n",
    "#set your api_token here:\n",
    "BASE = 'http://treasuremap.space/api/v0'\n",
    "api_token = \"zd6DGajyV66nlxuGhWt4CzIbdJ3wwr2UzlbkEg\""
   ]
  },
  {
   "cell_type": "code",
   "execution_count": 43,
   "metadata": {},
   "outputs": [],
   "source": [
    "def get_time_and_band(instrument='MMT'):\n",
    "    BASE = 'http://treasuremap.space/api/v0'\n",
    "    api_token = \"zd6DGajyV66nlxuGhWt4CzIbdJ3wwr2UzlbkEg\"\n",
    "    \n",
    "    TARGET = 'pointings'\n",
    "\n",
    "    #define the filtering parameters \n",
    "    #grab all of the completed pointings taken with a specific instrument for a given event\n",
    "\n",
    "    graceid = 'S190425z'\n",
    "\n",
    "    params = {\n",
    "        \"api_token\":api_token,\n",
    "        \"instrument\":instrument,\n",
    "        \"graceid\":graceid,\n",
    "        \"status\":\"completed\"\n",
    "    }\n",
    "\n",
    "    url = \"{}/{}?{}\".format(BASE, TARGET, urllib.parse.urlencode(params))\n",
    "    r = requests.get(url = url)\n",
    "    print(\"There are %s pointings\" % len(json.loads(r.text)))\n",
    "\n",
    "    #print the first\n",
    "    # print(json.loads(r.text))\n",
    "\n",
    "    pointings = []\n",
    "    positions = []\n",
    "    depths = []\n",
    "    depth_units = []\n",
    "    depth_errs = []\n",
    "    time = []\n",
    "    pos_angle = []\n",
    "    band = []\n",
    "    for p in range(len(json.loads(r.text))):\n",
    "        pointing = json.loads(json.loads(r.text)[p])\n",
    "        pointings.append(json.loads(json.loads(r.text)[p]))\n",
    "        positions.append(pointing[\"position\"])\n",
    "        depths.append(pointing[\"depth\"])\n",
    "        depth_units.append(pointing[\"depth_unit\"])\n",
    "        depth_errs.append(pointing[\"depth_err\"])\n",
    "        time.append(pointing[\"time\"])\n",
    "        pos_angle.append(pointing[\"pos_angle\"])\n",
    "        band.append(pointing[\"band\"])\n",
    "    \n",
    "    return time, band"
   ]
  },
  {
   "cell_type": "code",
   "execution_count": 44,
   "metadata": {},
   "outputs": [],
   "source": [
    "# print(depth_units)"
   ]
  },
  {
   "cell_type": "code",
   "execution_count": 45,
   "metadata": {},
   "outputs": [
    {
     "name": "stdout",
     "output_type": "stream",
     "text": [
      "2019-04-25 11:57:26\n"
     ]
    }
   ],
   "source": [
    "from datetime import datetime\n",
    "\n",
    "datetime_object = datetime.strptime('2019-04-25T11:57:26', '%Y-%m-%dT%H:%M:%S')\n",
    "print(datetime_object)"
   ]
  },
  {
   "cell_type": "code",
   "execution_count": 46,
   "metadata": {},
   "outputs": [],
   "source": [
    "BASE = 'http://treasuremap.space/api/v0/'\n",
    "TARGET = 'pointings'\n",
    "\n",
    "payload = {'graceid':'S190425z', 'api_token':api_token}\n",
    "r = requests.get(url = BASE+TARGET, params = payload)\n",
    "results = r.json()\n",
    "\n",
    "pointings = []\n",
    "for tile in results:\n",
    "    tile = eval(tile)\n",
    "    position = tile[\"position\"]\n",
    "    ra = float(position.split()[1].split('(')[1])\n",
    "    dec = float(position.split()[2].split(')')[0])\n",
    "    pos_angle = tile['pos_angle']\n",
    "    instrument_id = tile['instrumentid']\n",
    "    pointings.append([instrument_id, ra,dec,pos_angle])"
   ]
  },
  {
   "cell_type": "markdown",
   "metadata": {},
   "source": [
    "**Fetch Footprints Table**"
   ]
  },
  {
   "cell_type": "code",
   "execution_count": 47,
   "metadata": {},
   "outputs": [],
   "source": [
    "TARGET='footprints'\n",
    "r = requests.get(url = BASE+TARGET, params = payload)"
   ]
  },
  {
   "cell_type": "code",
   "execution_count": 48,
   "metadata": {},
   "outputs": [],
   "source": [
    "results = r.json()\n",
    "\n",
    "footprints_dict={}\n",
    "for footprint_obj in results:\n",
    "    footprint_obj = eval(footprint_obj)\n",
    "    inst_id = int(footprint_obj['instrumentid'])\n",
    "    footprint = footprint_obj['footprint']\n",
    "    sanitized = footprint.strip('POLYGON ').strip(')(').split(',')\n",
    "    footprint = []\n",
    "    for vertex in sanitized:\n",
    "        obj = vertex.split()\n",
    "        ra = float(obj[0])\n",
    "        dec = float(obj[1])\n",
    "        footprint.append([ra,dec])\n",
    "    new_entry = {inst_id:footprint}\n",
    "    footprints_dict.update(new_entry)"
   ]
  },
  {
   "cell_type": "markdown",
   "metadata": {},
   "source": [
    "**Fetch Instruments Table**"
   ]
  },
  {
   "cell_type": "code",
   "execution_count": 49,
   "metadata": {},
   "outputs": [],
   "source": [
    "TARGET='instruments'\n",
    "r = requests.get(url = BASE+TARGET, params = payload)"
   ]
  },
  {
   "cell_type": "code",
   "execution_count": 50,
   "metadata": {},
   "outputs": [],
   "source": [
    "results = r.json()\n",
    "\n",
    "instrument_dict={}\n",
    "for instrument in results:\n",
    "    instrument=eval(instrument)\n",
    "    inst_id = instrument['id']\n",
    "    inst_name = instrument['instrument_name']\n",
    "    new_entry = {inst_id: inst_name}\n",
    "    instrument_dict.update(new_entry)"
   ]
  },
  {
   "cell_type": "markdown",
   "metadata": {},
   "source": [
    "**Define Rotation and Projection Functions**"
   ]
  },
  {
   "cell_type": "code",
   "execution_count": 51,
   "metadata": {},
   "outputs": [],
   "source": [
    "def rotate(footprint, angle):\n",
    "        #footprint is a list of vertices points\n",
    "        #   vertice points = [ra, dec]\n",
    "\n",
    "        # angle is the pos_angle of the pointing\n",
    "\n",
    "        rot_footprint = []\n",
    "        for p in footprint:\n",
    "                x, y = p[0], p[1]\n",
    "                r = math.sqrt(x*x + y*y)\n",
    "                if x < 0:\n",
    "                        r = (-1.0)*r\n",
    "                theta = math.atan(y/x)-angle\n",
    "                new_x = r*math.cos(theta)\n",
    "                new_y = r*math.sin(theta)\n",
    "                rot_footprint.append([new_x, new_y])\n",
    "\n",
    "        return rot_footprint"
   ]
  },
  {
   "cell_type": "code",
   "execution_count": 52,
   "metadata": {},
   "outputs": [],
   "source": [
    "def project(footprint, _ra, _dec):\n",
    "        #footprint is a list of vertices points\n",
    "        #   vertice points = [ra, dec]\n",
    "\n",
    "        #_ra and _dec are the translated coordinates\n",
    "\n",
    "        proj_footprint = []\n",
    "        for p in footprint:\n",
    "            if p[0]+_ra > 360:\n",
    "                  ra = 360 - p[0]+_ra\n",
    "            elif p[0]+_ra < 0:\n",
    "                  ra = 360 + p[0]+_ra\n",
    "            else:\n",
    "                  ra = p[0] + _ra\n",
    "\n",
    "            if p[1]+_dec > 90:\n",
    "                dec = 90 - p[1]+_dec\n",
    "            elif p[1]+_dec < -90:\n",
    "                dec = -90 + p[1] + _dec\n",
    "#             elif p[1]+_dec < 0:\n",
    "#                   dec = 90 -  p[1]+_dec\n",
    "            else:\n",
    "                  dec = p[1] + _dec\n",
    "\n",
    "            proj_footprint.append([ra, dec])\n",
    "        return proj_footprint"
   ]
  },
  {
   "cell_type": "code",
   "execution_count": 53,
   "metadata": {},
   "outputs": [],
   "source": [
    "import healpy as hp"
   ]
  },
  {
   "cell_type": "code",
   "execution_count": 54,
   "metadata": {
    "scrolled": true
   },
   "outputs": [
    {
     "data": {
      "text/plain": [
       "[[-0.0225, 0.0225],\n",
       " [0.0225, 0.0225],\n",
       " [0.0225, -0.0225],\n",
       " [-0.0225, -0.0225],\n",
       " [-0.0225, 0.0225]]"
      ]
     },
     "execution_count": 54,
     "metadata": {},
     "output_type": "execute_result"
    }
   ],
   "source": [
    "footprints_dict.get(22)"
   ]
  },
  {
   "cell_type": "code",
   "execution_count": null,
   "metadata": {},
   "outputs": [],
   "source": []
  },
  {
   "cell_type": "code",
   "execution_count": 55,
   "metadata": {},
   "outputs": [],
   "source": [
    "#Using this function to convert the string Polygons to a list of points\n",
    "def sanatize_footprint_ccds(ccds):\n",
    "    footprint_ccds = []\n",
    "    for footprint in ccds:\n",
    "        sanitized = footprint.strip('POLYGON ').strip(')(').split(',')\n",
    "        polygon = []\n",
    "        for vertex in sanitized:\n",
    "            obj = vertex.split()\n",
    "            ra = float(obj[0])\n",
    "            dec = float(obj[1])\n",
    "            polygon.append([ra,dec])\n",
    "        footprint_ccds.append(polygon)\n",
    "    return footprint_ccds"
   ]
  },
  {
   "cell_type": "code",
   "execution_count": 56,
   "metadata": {
    "scrolled": true
   },
   "outputs": [
    {
     "name": "stdout",
     "output_type": "stream",
     "text": [
      "Requested Footprint Info\n"
     ]
    },
    {
     "data": {
      "image/png": "[encoded data removed]",
      "text/plain": [
       "<Figure size 432x288 with 1 Axes>"
      ]
     },
     "metadata": {
      "needs_background": "light"
     },
     "output_type": "display_data"
    }
   ],
   "source": [
    "# Getting Instrument Footprint\n",
    "import matplotlib.pyplot as plt\n",
    "from matplotlib.patches import Polygon\n",
    "from matplotlib.collections import PatchCollection\n",
    "\n",
    "TARGET = 'footprints'\n",
    "\n",
    "params = {\n",
    "            \"api_token\":api_token,\n",
    "            \"name\":\"MMT\"\n",
    "        }\n",
    "\n",
    "url = \"{}/{}?{}\".format(BASE, TARGET, urllib.parse.urlencode(params))\n",
    "r = requests.get(url = url)\n",
    "\n",
    "print(\"Requested Footprint Info\")\n",
    "\n",
    "footprints = json.loads(r.text)\n",
    "polygons = []\n",
    "patches = []\n",
    "\n",
    "#This gets all of the Polygon information from the json list\n",
    "for f in footprints:\n",
    "    f_info = json.loads(f)\n",
    "    polygons.append(f_info['footprint'])\n",
    "\n",
    "#converts the polygons to a list of list of points (list of polygons)\n",
    "sanatized_ccds = sanatize_footprint_ccds(polygons)\n",
    "\n",
    "#gather the points for ylim and xlim\n",
    "xs, ys = [], []\n",
    "\n",
    "for sc in sanatized_ccds:\n",
    "    #add the polygon list of points to the matplotlib patch collection\n",
    "    patches.append(Polygon(sc, True))\n",
    "    for p in sc:\n",
    "        xs.append(p[0])\n",
    "        ys.append(p[1])\n",
    "    \n",
    "p = PatchCollection(patches, alpha=0.4)\n",
    "\n",
    "fig, ax = plt.subplots()\n",
    "ax.set_xlim(min(xs)-.1, max(xs)+.1)\n",
    "ax.set_ylim(min(ys)-.1, max(ys)+.1)\n",
    "ax.add_collection(p)\n",
    "plt.show()"
   ]
  },
  {
   "cell_type": "code",
   "execution_count": 57,
   "metadata": {},
   "outputs": [],
   "source": [
    "import healpy as hp"
   ]
  },
  {
   "cell_type": "code",
   "execution_count": 187,
   "metadata": {},
   "outputs": [],
   "source": [
    "hpx, header = hp.read_map('LALInference.fits.gz,0', h=True, verbose=False)\n",
    "# hp.npix2nside(len(hpx))"
   ]
  },
  {
   "cell_type": "code",
   "execution_count": 59,
   "metadata": {},
   "outputs": [
    {
     "data": {
      "image/png": "[encoded data removed]",
      "text/plain": [
       "<Figure size 612x388.8 with 2 Axes>"
      ]
     },
     "metadata": {
      "needs_background": "light"
     },
     "output_type": "display_data"
    }
   ],
   "source": [
    "hp.mollview(hpx)"
   ]
  },
  {
   "cell_type": "code",
   "execution_count": 60,
   "metadata": {},
   "outputs": [
    {
     "name": "stdout",
     "output_type": "stream",
     "text": [
      "[624725 624726 625750 625751 626773 626774 627798 627799 628821 628822\n",
      " 629846 629847]\n"
     ]
    }
   ],
   "source": [
    "# print(footprints_dict.get(22)[:-1])\n",
    "xyz = [[-0.69601758, -0.41315628, -0.58724902],\n",
    "\n",
    "       [-0.68590811, -0.40679797, -0.60336181],\n",
    "\n",
    "       [-0.69106913, -0.39820114, -0.60320752],\n",
    "\n",
    "       [-0.7011786 , -0.40455945, -0.58709473]]\n",
    "\n",
    "ipix_poly = hp.query_polygon(256, xyz)\n",
    "print(ipix_poly)"
   ]
  },
  {
   "cell_type": "code",
   "execution_count": 61,
   "metadata": {},
   "outputs": [
    {
     "data": {
      "text/plain": [
       "2.9306794937050176e-15"
      ]
     },
     "execution_count": 61,
     "metadata": {},
     "output_type": "execute_result"
    }
   ],
   "source": [
    "hpx[ipix_poly].sum()"
   ]
  },
  {
   "cell_type": "code",
   "execution_count": 62,
   "metadata": {},
   "outputs": [],
   "source": [
    "MMT_pointings = []\n",
    "CSS_pointings = []\n",
    "GOTO_pointings = []\n",
    "for p in range(len(pointings)):\n",
    "    if pointings[p][0] == 22:\n",
    "        MMT_pointings.append(pointings[p])\n",
    "    if pointings[p][0] == 71:\n",
    "        GOTO_pointings.append(pointings[p])\n",
    "    if pointings[p][0] == 11:\n",
    "        CSS_pointings.append(pointings[p])\n",
    "MMT_pointings = np.array(MMT_pointings)[:,1:3]\n",
    "CSS_pointings = np.array(CSS_pointings)[:,1:3]\n",
    "GOTO_pointings = np.array(GOTO_pointings)[:,1:3]"
   ]
  },
  {
   "cell_type": "code",
   "execution_count": 63,
   "metadata": {},
   "outputs": [],
   "source": [
    "from datetime import datetime\n",
    "def get_important_things(instrument):\n",
    "    # for a given instrument, returns the median time of the pointing\n",
    "    # since the event as well as the band\n",
    "    time, band = get_time_and_band(instrument)\n",
    "    event = '2019-04-25T08:18:05'\n",
    "    FMT = '%Y-%m-%dT%H:%M:%S'\n",
    "    time = [datetime.strptime(t[:19], FMT) - datetime.strptime(event, FMT) for t in time]\n",
    "    time = [t.days + t.seconds/86400 for t in time]\n",
    "    return time, band"
   ]
  },
  {
   "cell_type": "code",
   "execution_count": 64,
   "metadata": {},
   "outputs": [
    {
     "name": "stdout",
     "output_type": "stream",
     "text": [
      "There are 67 pointings\n",
      "There are 303 pointings\n",
      "There are 73 pointings\n"
     ]
    }
   ],
   "source": [
    "mmt_time, mmt_band = get_important_things('MMT')\n",
    "goto_time, goto_band = get_important_things('GOTO-4')\n",
    "css_time, css_band = get_important_things('CSS')"
   ]
  },
  {
   "cell_type": "code",
   "execution_count": 134,
   "metadata": {},
   "outputs": [],
   "source": [
    "mmt = {}\n",
    "mmt['pointings'] = MMT_pointings\n",
    "mmt['time'] = np.array(mmt_time)\n",
    "mmt['band'] = np.array(mmt_band)\n",
    "css = {}\n",
    "css['pointings'] = CSS_pointings\n",
    "css['time'] = np.array(css_time)\n",
    "css['band'] = np.array(css_band)\n",
    "goto = {}\n",
    "goto['pointings'] = GOTO_pointings\n",
    "goto['time'] = np.array(goto_time)\n",
    "goto['band'] = np.array(goto_band)"
   ]
  },
  {
   "cell_type": "code",
   "execution_count": 135,
   "metadata": {},
   "outputs": [],
   "source": [
    "# test out a time window\n",
    "t_range = [0.25, 1.25]\n",
    "goto_time = goto['time']\n",
    "indices = []\n",
    "for i in range(len(goto_time)):\n",
    "    if t_range[0] <= goto_time[i] <= t_range[1]:\n",
    "        indices.append(i)\n",
    "# goto['pointings'][indices]"
   ]
  },
  {
   "cell_type": "code",
   "execution_count": 136,
   "metadata": {},
   "outputs": [
    {
     "name": "stdout",
     "output_type": "stream",
     "text": [
      "[[-1.85, 2.45], [1.85, 2.45], [1.85, -2.45], [-1.85, -2.45]]\n",
      "[-112.788    16.5661]\n"
     ]
    }
   ],
   "source": [
    "print(footprints_dict.get(71)[:-1])\n",
    "print(css['pointings'][0])"
   ]
  },
  {
   "cell_type": "code",
   "execution_count": 137,
   "metadata": {},
   "outputs": [],
   "source": [
    "ra, dec = np.deg2rad(-112.788), np.deg2rad(16.5661)"
   ]
  },
  {
   "cell_type": "code",
   "execution_count": 138,
   "metadata": {},
   "outputs": [],
   "source": [
    "colat, colong = np.pi/2 - dec, 2*np.pi - ra"
   ]
  },
  {
   "cell_type": "code",
   "execution_count": 139,
   "metadata": {},
   "outputs": [
    {
     "data": {
      "text/plain": [
       "(1.281663337580264, 8.25170726391895)"
      ]
     },
     "execution_count": 139,
     "metadata": {},
     "output_type": "execute_result"
    }
   ],
   "source": [
    "colat, colong"
   ]
  },
  {
   "cell_type": "code",
   "execution_count": 140,
   "metadata": {},
   "outputs": [
    {
     "data": {
      "text/plain": [
       "array([-0.3712453 ,  0.88367571,  0.28512131])"
      ]
     },
     "execution_count": 140,
     "metadata": {},
     "output_type": "execute_result"
    }
   ],
   "source": [
    "hp.ang2vec(colat, colong)"
   ]
  },
  {
   "cell_type": "code",
   "execution_count": 141,
   "metadata": {},
   "outputs": [],
   "source": [
    "def deg2rad(point):\n",
    "    return np.deg2rad(point[0]), np.deg2rad(point[1])\n",
    "\n",
    "def astro2sky(point):\n",
    "    colat = np.pi/2 - point[1]\n",
    "    if ra < 0:\n",
    "        colong = 2*np.pi + point[0]\n",
    "    else:\n",
    "        colong = point[0]\n",
    "    return [colat, colong]\n",
    "\n",
    "def sky2vec(point):\n",
    "    return hp.ang2vec(point[0], point[1])"
   ]
  },
  {
   "cell_type": "code",
   "execution_count": 142,
   "metadata": {},
   "outputs": [],
   "source": [
    "def point_projector(point):\n",
    "    point = deg2rad(point)\n",
    "    point = astro2sky(point)\n",
    "    point = sky2vec(point)\n",
    "    return point"
   ]
  },
  {
   "cell_type": "code",
   "execution_count": 143,
   "metadata": {},
   "outputs": [
    {
     "data": {
      "text/plain": [
       "array([-0.3712453 , -0.88367571,  0.28512131])"
      ]
     },
     "execution_count": 143,
     "metadata": {},
     "output_type": "execute_result"
    }
   ],
   "source": [
    "point_projector([-112.788, 16.5661])"
   ]
  },
  {
   "cell_type": "code",
   "execution_count": 144,
   "metadata": {},
   "outputs": [],
   "source": [
    "def query_footprint(footprint, pointing):\n",
    "    polygon = []\n",
    "    for p in footprint:\n",
    "        point = np.array(p) + np.array(pointing)\n",
    "        point = point_projector(point)\n",
    "        polygon.append(point)\n",
    "    return hp.query_polygon(256, polygon)"
   ]
  },
  {
   "cell_type": "code",
   "execution_count": 171,
   "metadata": {},
   "outputs": [],
   "source": [
    "def coverage_in_time(ti, tf, instrument='css'):\n",
    "    \"\"\"\n",
    "    Returns total probability coverage during time period\n",
    "    ti: initial time in days\n",
    "    tf: final time in days\n",
    "    instrument: either goto or css, the instrument dictionary\n",
    "    \"\"\"\n",
    "#     assert (instrument is css) or (instrument is goto)\n",
    "    if instrument == 'css':\n",
    "        footprint = footprints_dict.get(11)[:-1]\n",
    "        instrument = css\n",
    "    elif instrument == 'goto':\n",
    "        footprint = footprints_dict.get(71)[:-1]\n",
    "        instrument = goto\n",
    "    pointings = instrument['pointings']\n",
    "    times = instrument['time']\n",
    "    indices = []\n",
    "    for i in range(len(times)):\n",
    "        if ti <= times[i] <= tf:\n",
    "            indices.append(i)\n",
    "    pointings = pointings[indices]\n",
    "    idx = []\n",
    "    for pointing in pointings:\n",
    "        idx = idx + list(query_footprint(footprint, pointing))\n",
    "    idx = list(dict.fromkeys(idx)) # kills duplicates\n",
    "    p = hpx[idx].sum()\n",
    "    return p, idx"
   ]
  },
  {
   "cell_type": "code",
   "execution_count": 174,
   "metadata": {},
   "outputs": [
    {
     "data": {
      "text/plain": [
       "0.057590819847420545"
      ]
     },
     "execution_count": 174,
     "metadata": {},
     "output_type": "execute_result"
    }
   ],
   "source": [
    "p, idx = coverage_in_time(0.75, 1.5, instrument='goto')\n",
    "p"
   ]
  },
  {
   "cell_type": "code",
   "execution_count": 208,
   "metadata": {},
   "outputs": [],
   "source": [
    "def coverage_iterator(time, instrument):\n",
    "    \"\"\"\n",
    "    Given a list describing the number of time windows,\n",
    "    the beginning of the first window and the end of the last,\n",
    "    iterates through an instrument's sky coverage to determine whether\n",
    "    a detection was made, and if so, in which epoch.\n",
    "    - time: time list [dt, ti, tf]\n",
    "    - instrument: instrument string\n",
    "    \"\"\"\n",
    "    ti = time[1]\n",
    "    tf = time[2]\n",
    "    nt = time[0]\n",
    "    dt = (tf - ti) / nt\n",
    "    t2 = ti + dt\n",
    "    hpx2 = np.copy(hpx)\n",
    "    for i in range(nt):\n",
    "        ti += dt * i\n",
    "        t2 += dt * i\n",
    "        p, idx = coverage_in_time(ti, t2, instrument)\n",
    "        r = np.random.uniform()\n",
    "        if r <= p:\n",
    "            return [ti, t2], i\n",
    "        else:\n",
    "            hpx2[idx] = 0\n",
    "            hpx2 /= hpx2.sum()\n",
    "    return None"
   ]
  },
  {
   "cell_type": "code",
   "execution_count": 209,
   "metadata": {},
   "outputs": [
    {
     "data": {
      "text/plain": [
       "([0.25, 0.75], 0)"
      ]
     },
     "execution_count": 209,
     "metadata": {},
     "output_type": "execute_result"
    }
   ],
   "source": [
    "coverage_iterator([30, 0.25, 15.25], 'goto')"
   ]
  },
  {
   "cell_type": "code",
   "execution_count": 215,
   "metadata": {},
   "outputs": [
    {
     "name": "stdout",
     "output_type": "stream",
     "text": [
      "Mean Epoch of Detection 0.47368421052631576\n",
      "Detection Rate 0.152\n"
     ]
    }
   ],
   "source": [
    "tot = 0\n",
    "hits = 0\n",
    "maxm = 1000\n",
    "ilist = []\n",
    "while tot < maxm:\n",
    "    result = coverage_iterator([30, 0.25, 15.25], 'goto')\n",
    "    if result is None:\n",
    "        pass\n",
    "    else:\n",
    "        hits += 1\n",
    "        ilist.append(result[1])\n",
    "    tot += 1\n",
    "\n",
    "print(\"Mean Epoch of Detection\", np.array(ilist).mean())    \n",
    "print(\"Detection Rate\", hits / tot)"
   ]
  },
  {
   "cell_type": "code",
   "execution_count": 213,
   "metadata": {},
   "outputs": [
    {
     "data": {
      "text/plain": [
       "0.172"
      ]
     },
     "execution_count": 213,
     "metadata": {},
     "output_type": "execute_result"
    }
   ],
   "source": [
    "hits / tot"
   ]
  },
  {
   "cell_type": "code",
   "execution_count": null,
   "metadata": {},
   "outputs": [],
   "source": []
  }
 ],
 "metadata": {
  "kernelspec": {
   "display_name": "Python 3",
   "language": "python",
   "name": "python3"
  },
  "language_info": {
   "codemirror_mode": {
    "name": "ipython",
    "version": 3
   },
   "file_extension": ".py",
   "mimetype": "text/x-python",
   "name": "python",
   "nbconvert_exporter": "python",
   "pygments_lexer": "ipython3",
   "version": "3.8.3"
  }
 },
 "nbformat": 4,
 "nbformat_minor": 4
}
